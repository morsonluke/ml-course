{
 "cells": [
  {
   "cell_type": "markdown",
   "metadata": {},
   "source": [
    "\n",
    "\n",
    "### [Create training, test and validation datasets](https://cs230-stanford.github.io/train-dev-test-split.html)\n",
    "\n",
    "Psudeocode\n",
    "\n",
    "* Loop through each folder `Sample001` - `Sample062`\n",
    "* Split each class into 90% training set, 10% test set. \n",
    "* Save as an array of filenames for `training` and `test` datasets. \n",
    "\n",
    "Why?\n",
    "* **Train set** - fit the model weights\n",
    "* **Test set** - check the accuracy of the trained model\n",
    "\n",
    "### [Preprocessing](http://ankivil.com/kaggle-first-steps-with-julia-chars74k-first-place-using-convolutional-neural-networks/)\n",
    "\n",
    "Pre-processing steps:\n",
    "\n",
    "* Read the images from the array of image paths and flatten to grayscale\n",
    "* Resize the image to required size of 32*32\n",
    "* Save the image to the new folder in /data\n",
    "* Create the images as a numpy file for loading later\n",
    "\n",
    "**NOTE**: This could be optimised to allow for more flexible creation of images of different sizes. "
   ]
  },
  {
   "cell_type": "code",
   "execution_count": 2,
   "metadata": {},
   "outputs": [
    {
     "name": "stdout",
     "output_type": "stream",
     "text": [
      "There are 6905 training images.\n",
      "There are 800 test images.\n"
     ]
    }
   ],
   "source": [
    "import glob\n",
    "import random\n",
    "import pandas as pd\n",
    "import numpy as np\n",
    "\n",
    "import os\n",
    "import math\n",
    "from scipy.misc import imread, imsave, imresize\n",
    "# ignore deprecation warnings\n",
    "import warnings\n",
    "warnings.filterwarnings('ignore')\n",
    "\n",
    "class_list = [\"01\", \"02\", \"03\",\"04\",\"05\",\"06\",\"07\",\"08\",\"09\",\"10\",\"11\",\"12\",\"13\",\"14\",\"15\",\"16\",\"17\",\"18\",\"19\",\"20\", \"21\", \"22\",\"23\",\"24\",\"25\",\"26\",\"27\",\"28\",\"29\",\"30\",\"31\",\"32\",\"33\",\"34\",\"35\",\"36\",\"37\",\"38\",\"39\",\"40\",\"41\",\"42\",\"43\",\"44\",\"45\",\"46\",\"47\",\"48\",\"49\",\"50\",\"51\",\"52\",\"53\",\"54\",\"55\",\"56\",\"57\",\"58\",\"59\",\"60\",\"61\",\"62\"]\n",
    "training_set= [] \n",
    "test_set = []\n",
    "images = []\n",
    "\n",
    "for i in class_list:\n",
    "    folder_name = \"img/GoodImg/Bmp/Sample0\" + i + \"/*.png\"\n",
    "    \n",
    "    filenames = []\n",
    "    for img_path in glob.glob(folder_name):\n",
    "        filenames.append(img_path)\n",
    "\n",
    "    filenames.sort()  # make sure that the filenames have a fixed order before shuffling   \n",
    "    random.seed(230)\n",
    "    random.shuffle(images)\n",
    "        \n",
    "    split_1 = int(0.9 * len(filenames))\n",
    "    \n",
    "    train_filenames = filenames[:split_1]\n",
    "    test_filenames = filenames[split_1:]\n",
    "            \n",
    "    training_set.extend(train_filenames)\n",
    "    test_set.extend(test_filenames)\n",
    "\n",
    "print('There are %d training images.' % len(training_set))\n",
    "print('There are %d test images.' % len(test_set))\n"
   ]
  },
  {
   "cell_type": "code",
   "execution_count": 3,
   "metadata": {},
   "outputs": [],
   "source": [
    "path = 'data'\n",
    "img_rows, img_cols = 32, 32"
   ]
  },
  {
   "cell_type": "markdown",
   "metadata": {},
   "source": [
    "### Create test images\n",
    "\n",
    "- Create the folder `data/test_preproc_32_32`"
   ]
  },
  {
   "cell_type": "code",
   "execution_count": 4,
   "metadata": {},
   "outputs": [],
   "source": [
    "files = test_set\n",
    "test_data = np.zeros((len(files), img_rows, img_cols)) \n",
    "\n",
    "for i, filepath in enumerate(files):\n",
    "    image = imread(filepath, True) # True: flatten to grayscale\n",
    "\n",
    "    imageResized = imresize(image, (img_rows, img_cols))\n",
    "\n",
    "    # Add the resized image to the dataset\n",
    "    test_data[i] = imageResized\n",
    "\n",
    "    #Save images \n",
    "    path_list = filepath.split(os.sep)\n",
    "    newName = 'data/test_preproc_32_32/' + path_list[4]\n",
    "    imsave(newName, imageResized)\n",
    "\n",
    "# Add channel/filter dimensions    \n",
    "test_data = test_data[:,np.newaxis,:,:]\n",
    "\n",
    "# We rescale the images by dividing every pixel in the image by 255\n",
    "test_data = test_data.astype('float32')\n",
    "test_data /= 255\n",
    "\n",
    "# Save data as a numpy file \n",
    "np.save(\"data/test_preproc_32_32.npy\", test_data)"
   ]
  },
  {
   "cell_type": "markdown",
   "metadata": {},
   "source": [
    "### Create the training images\n",
    "- Create the folder `data/train_Preproc_32_32`"
   ]
  },
  {
   "cell_type": "code",
   "execution_count": 5,
   "metadata": {},
   "outputs": [],
   "source": [
    "training_files = training_set\n",
    "training_data = np.zeros((len(training_files), img_rows, img_cols)) \n",
    "\n",
    "for i, filepath in enumerate(training_files):\n",
    "    image = imread(filepath, True) # True: flatten to grayscale\n",
    "\n",
    "    imageResized = imresize(image, (img_rows, img_cols))\n",
    "\n",
    "    # Add the resized image to the dataset\n",
    "    training_data[i] = imageResized\n",
    "\n",
    "    #Save images - Uncomment the lines below to create images\n",
    "    path_list = filepath.split(os.sep)\n",
    "    newName = 'data/train_preproc_32_32/' + path_list[4]\n",
    "    imsave(newName, imageResized)\n",
    "    \n",
    "# Add channel/filter dimensions    \n",
    "training_data = training_data[:,np.newaxis,:,:]\n",
    "\n",
    "# We rescale the images by dividing every pixel in the image by 255\n",
    "training_data = training_data.astype('float32')\n",
    "training_data /= 255\n",
    "\n",
    "# Save data as a numpy file \n",
    "np.save(\"data/training_preproc_32_32.npy\", training_data)"
   ]
  },
  {
   "cell_type": "markdown",
   "metadata": {},
   "source": [
    "### Create training labels"
   ]
  },
  {
   "cell_type": "code",
   "execution_count": 6,
   "metadata": {},
   "outputs": [],
   "source": [
    "folder_name = \"data/train_preproc_32_32/*.png\"\n",
    "\n",
    "y_train = []\n",
    "filenames = []\n",
    "for img_path in sorted(glob.glob(folder_name)):\n",
    "    filenames.append(img_path)\n",
    "    \n",
    "    path_list = img_path.split(os.sep)\n",
    "    img_ext = path_list[2]\n",
    "    class_str = int(img_ext[3:6])\n",
    "    y_train.append(class_str)\n",
    "\n",
    "y_train_shape = len(y_train)\n",
    "# Create a np array with shape (y_train_shape, 62)\n",
    "Y_train = np.zeros((y_train_shape,62))\n",
    "\n",
    "for i in range(y_train_shape):\n",
    "    Y_train[i][y_train[i]-1] = 1\n",
    "    \n",
    "# Save training labels as a numpy file    \n",
    "np.save(\"data/trainingLabels32.npy\",Y_train)"
   ]
  },
  {
   "cell_type": "markdown",
   "metadata": {},
   "source": [
    "### Create test labels"
   ]
  },
  {
   "cell_type": "code",
   "execution_count": 7,
   "metadata": {},
   "outputs": [],
   "source": [
    "folder_name = \"data/test_preproc_32_32/*.png\"\n",
    "\n",
    "y_test = []\n",
    "filenames = []\n",
    "for img_path in sorted(glob.glob(folder_name)):\n",
    "    filenames.append(img_path)\n",
    "\n",
    "    path_list = img_path.split(os.sep)\n",
    "    img_ext = path_list[2]\n",
    "    class_str = int(img_ext[3:6])\n",
    "    y_test.append(class_str)\n",
    "\n",
    "y_test_shape = len(y_test)\n",
    "# Create a np array \n",
    "Y_test = np.zeros((y_test_shape,62))\n",
    "\n",
    "for i in range(y_test_shape):\n",
    "    Y_test[i][y_test[i]-1] = 1\n",
    "    \n",
    "# Save training labels as a numpy file    \n",
    "np.save(\"data/testLabels32.npy\",Y_test)"
   ]
  }
 ],
 "metadata": {
  "kernelspec": {
   "display_name": "Python 3",
   "language": "python",
   "name": "python3"
  },
  "language_info": {
   "codemirror_mode": {
    "name": "ipython",
    "version": 3
   },
   "file_extension": ".py",
   "mimetype": "text/x-python",
   "name": "python",
   "nbconvert_exporter": "python",
   "pygments_lexer": "ipython3",
   "version": "3.6.4"
  }
 },
 "nbformat": 4,
 "nbformat_minor": 2
}
